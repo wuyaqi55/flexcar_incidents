{
 "cells": [
  {
   "cell_type": "code",
   "execution_count": 31,
   "metadata": {},
   "outputs": [],
   "source": [
    "import pandas as pd\n",
    "data = pd.read_csv('/Users/yaqi.wu/Documents/data/incident_train_data/h2o_incident_data_all_10.6_train.csv')\n",
    "accident_model1_pos = pd.read_csv('/Users/yaqi.wu/Documents/data/h2oai_experiment_incident_v3_train_dataset_incident_trian_v3_csv_predictions.csv')"
   ]
  },
  {
   "cell_type": "code",
   "execution_count": 32,
   "metadata": {},
   "outputs": [
    {
     "name": "stdout",
     "output_type": "stream",
     "text": [
      "<class 'pandas.core.frame.DataFrame'>\n",
      "RangeIndex: 7135 entries, 0 to 7134\n",
      "Data columns (total 5 columns):\n",
      " #   Column                                               Non-Null Count  Dtype  \n",
      "---  ------                                               --------------  -----  \n",
      " 0   seasoning_3month_incident_Ind                        7135 non-null   int64  \n",
      " 1   Subscriber Id_x                                      7135 non-null   object \n",
      " 2   seasoning_3month_incident_Ind.0                      7135 non-null   float64\n",
      " 3   seasoning_3month_incident_Ind.1                      7135 non-null   float64\n",
      " 4   seasoning_3month_incident_Ind.predicted(th=0.45150)  7135 non-null   int64  \n",
      "dtypes: float64(2), int64(2), object(1)\n",
      "memory usage: 278.8+ KB\n"
     ]
    }
   ],
   "source": [
    "accident_model1_pos.info()"
   ]
  },
  {
   "cell_type": "code",
   "execution_count": 37,
   "metadata": {},
   "outputs": [],
   "source": [
    "accident_model1_pos['predict_accident_ind'] = accident_model1_pos['seasoning_3month_incident_Ind.1'].map(lambda x: 1 if x >= 0.285 else 0)"
   ]
  },
  {
   "cell_type": "code",
   "execution_count": 38,
   "metadata": {},
   "outputs": [
    {
     "data": {
      "text/plain": [
       "109"
      ]
     },
     "execution_count": 38,
     "metadata": {},
     "output_type": "execute_result"
    }
   ],
   "source": [
    "sum((accident_model1_pos['predict_accident_ind'] == 1) & (accident_model1_pos['seasoning_3month_incident_Ind']==1))"
   ]
  },
  {
   "cell_type": "code",
   "execution_count": null,
   "metadata": {},
   "outputs": [],
   "source": [
    "accident_model1_pos = accident_model1_pos[accident_model1_pos['predict_accident_ind']==1]\n",
    "data[data['SUBSCRIBERID'].isin(accident_model1_pos['Subscriber Id_x'])]"
   ]
  },
  {
   "cell_type": "code",
   "execution_count": 44,
   "metadata": {},
   "outputs": [
    {
     "data": {
      "text/html": [
       "<div>\n",
       "<style scoped>\n",
       "    .dataframe tbody tr th:only-of-type {\n",
       "        vertical-align: middle;\n",
       "    }\n",
       "\n",
       "    .dataframe tbody tr th {\n",
       "        vertical-align: top;\n",
       "    }\n",
       "\n",
       "    .dataframe thead th {\n",
       "        text-align: right;\n",
       "    }\n",
       "</style>\n",
       "<table border=\"1\" class=\"dataframe\">\n",
       "  <thead>\n",
       "    <tr style=\"text-align: right;\">\n",
       "      <th></th>\n",
       "      <th>seasoning_3month_incident_Ind</th>\n",
       "      <th>Subscriber Id_x</th>\n",
       "      <th>seasoning_3month_incident_Ind.0</th>\n",
       "      <th>seasoning_3month_incident_Ind.1</th>\n",
       "      <th>seasoning_3month_incident_Ind.predicted(th=0.45150)</th>\n",
       "      <th>Actual_bad(285+) = True positive</th>\n",
       "      <th>predict_accident_ind</th>\n",
       "    </tr>\n",
       "  </thead>\n",
       "  <tbody>\n",
       "    <tr>\n",
       "      <th>0</th>\n",
       "      <td>1</td>\n",
       "      <td>35410f08-48fe-4073-91b6-32f411442578</td>\n",
       "      <td>0.116672</td>\n",
       "      <td>0.883328</td>\n",
       "      <td>1</td>\n",
       "      <td>1</td>\n",
       "      <td>1</td>\n",
       "    </tr>\n",
       "    <tr>\n",
       "      <th>1</th>\n",
       "      <td>1</td>\n",
       "      <td>a07eda21-dec1-443d-83db-6947f9c4f2c8</td>\n",
       "      <td>0.108959</td>\n",
       "      <td>0.891041</td>\n",
       "      <td>1</td>\n",
       "      <td>1</td>\n",
       "      <td>1</td>\n",
       "    </tr>\n",
       "    <tr>\n",
       "      <th>3</th>\n",
       "      <td>1</td>\n",
       "      <td>b0cafe5d-61ce-4115-b3a4-c84b92b8e991</td>\n",
       "      <td>0.091587</td>\n",
       "      <td>0.908413</td>\n",
       "      <td>1</td>\n",
       "      <td>1</td>\n",
       "      <td>1</td>\n",
       "    </tr>\n",
       "    <tr>\n",
       "      <th>5</th>\n",
       "      <td>1</td>\n",
       "      <td>a0d42e6a-924a-47e3-8369-26e69f8d2d27</td>\n",
       "      <td>0.086496</td>\n",
       "      <td>0.913504</td>\n",
       "      <td>1</td>\n",
       "      <td>1</td>\n",
       "      <td>1</td>\n",
       "    </tr>\n",
       "    <tr>\n",
       "      <th>6</th>\n",
       "      <td>1</td>\n",
       "      <td>3d1cfbc2-d893-40a9-acd1-b988cc3a8831</td>\n",
       "      <td>0.086033</td>\n",
       "      <td>0.913967</td>\n",
       "      <td>1</td>\n",
       "      <td>1</td>\n",
       "      <td>1</td>\n",
       "    </tr>\n",
       "    <tr>\n",
       "      <th>...</th>\n",
       "      <td>...</td>\n",
       "      <td>...</td>\n",
       "      <td>...</td>\n",
       "      <td>...</td>\n",
       "      <td>...</td>\n",
       "      <td>...</td>\n",
       "      <td>...</td>\n",
       "    </tr>\n",
       "    <tr>\n",
       "      <th>6380</th>\n",
       "      <td>0</td>\n",
       "      <td>174d4c90-63d1-4c3d-a7d9-cb4b9072d764</td>\n",
       "      <td>0.589300</td>\n",
       "      <td>0.410700</td>\n",
       "      <td>0</td>\n",
       "      <td>0</td>\n",
       "      <td>1</td>\n",
       "    </tr>\n",
       "    <tr>\n",
       "      <th>6415</th>\n",
       "      <td>0</td>\n",
       "      <td>b12e12bb-653e-4388-8375-0a695d21001a</td>\n",
       "      <td>0.566667</td>\n",
       "      <td>0.433333</td>\n",
       "      <td>0</td>\n",
       "      <td>0</td>\n",
       "      <td>1</td>\n",
       "    </tr>\n",
       "    <tr>\n",
       "      <th>6733</th>\n",
       "      <td>1</td>\n",
       "      <td>b541e79f-1948-41e9-a5cb-dbbd039587aa</td>\n",
       "      <td>0.119772</td>\n",
       "      <td>0.880228</td>\n",
       "      <td>1</td>\n",
       "      <td>1</td>\n",
       "      <td>1</td>\n",
       "    </tr>\n",
       "    <tr>\n",
       "      <th>7109</th>\n",
       "      <td>1</td>\n",
       "      <td>728a3b51-4530-4964-b871-95190dd1453e</td>\n",
       "      <td>0.085395</td>\n",
       "      <td>0.914605</td>\n",
       "      <td>1</td>\n",
       "      <td>1</td>\n",
       "      <td>1</td>\n",
       "    </tr>\n",
       "    <tr>\n",
       "      <th>7118</th>\n",
       "      <td>0</td>\n",
       "      <td>11ab6abe-a409-4689-b6e5-29a75da1da8c</td>\n",
       "      <td>0.711299</td>\n",
       "      <td>0.288701</td>\n",
       "      <td>0</td>\n",
       "      <td>0</td>\n",
       "      <td>1</td>\n",
       "    </tr>\n",
       "  </tbody>\n",
       "</table>\n",
       "<p>126 rows × 7 columns</p>\n",
       "</div>"
      ],
      "text/plain": [
       "      seasoning_3month_incident_Ind                       Subscriber Id_x  \\\n",
       "0                                 1  35410f08-48fe-4073-91b6-32f411442578   \n",
       "1                                 1  a07eda21-dec1-443d-83db-6947f9c4f2c8   \n",
       "3                                 1  b0cafe5d-61ce-4115-b3a4-c84b92b8e991   \n",
       "5                                 1  a0d42e6a-924a-47e3-8369-26e69f8d2d27   \n",
       "6                                 1  3d1cfbc2-d893-40a9-acd1-b988cc3a8831   \n",
       "...                             ...                                   ...   \n",
       "6380                              0  174d4c90-63d1-4c3d-a7d9-cb4b9072d764   \n",
       "6415                              0  b12e12bb-653e-4388-8375-0a695d21001a   \n",
       "6733                              1  b541e79f-1948-41e9-a5cb-dbbd039587aa   \n",
       "7109                              1  728a3b51-4530-4964-b871-95190dd1453e   \n",
       "7118                              0  11ab6abe-a409-4689-b6e5-29a75da1da8c   \n",
       "\n",
       "      seasoning_3month_incident_Ind.0  seasoning_3month_incident_Ind.1  \\\n",
       "0                            0.116672                         0.883328   \n",
       "1                            0.108959                         0.891041   \n",
       "3                            0.091587                         0.908413   \n",
       "5                            0.086496                         0.913504   \n",
       "6                            0.086033                         0.913967   \n",
       "...                               ...                              ...   \n",
       "6380                         0.589300                         0.410700   \n",
       "6415                         0.566667                         0.433333   \n",
       "6733                         0.119772                         0.880228   \n",
       "7109                         0.085395                         0.914605   \n",
       "7118                         0.711299                         0.288701   \n",
       "\n",
       "      seasoning_3month_incident_Ind.predicted(th=0.45150)  \\\n",
       "0                                                     1     \n",
       "1                                                     1     \n",
       "3                                                     1     \n",
       "5                                                     1     \n",
       "6                                                     1     \n",
       "...                                                 ...     \n",
       "6380                                                  0     \n",
       "6415                                                  0     \n",
       "6733                                                  1     \n",
       "7109                                                  1     \n",
       "7118                                                  0     \n",
       "\n",
       "      Actual_bad(285+) = True positive  predict_accident_ind  \n",
       "0                                    1                     1  \n",
       "1                                    1                     1  \n",
       "3                                    1                     1  \n",
       "5                                    1                     1  \n",
       "6                                    1                     1  \n",
       "...                                ...                   ...  \n",
       "6380                                 0                     1  \n",
       "6415                                 0                     1  \n",
       "6733                                 1                     1  \n",
       "7109                                 1                     1  \n",
       "7118                                 0                     1  \n",
       "\n",
       "[126 rows x 7 columns]"
      ]
     },
     "execution_count": 44,
     "metadata": {},
     "output_type": "execute_result"
    }
   ],
   "source": [
    "accident_model1_pos"
   ]
  },
  {
   "cell_type": "code",
   "execution_count": 45,
   "metadata": {},
   "outputs": [],
   "source": [
    "data[data['SUBSCRIBERID'].isin(accident_model1_pos['Subscriber Id_x'])].to_csv('mp_test2.csv')"
   ]
  }
 ],
 "metadata": {
  "kernelspec": {
   "display_name": "Python 3",
   "language": "python",
   "name": "python3"
  },
  "language_info": {
   "codemirror_mode": {
    "name": "ipython",
    "version": 3
   },
   "file_extension": ".py",
   "mimetype": "text/x-python",
   "name": "python",
   "nbconvert_exporter": "python",
   "pygments_lexer": "ipython3",
   "version": "3.11.12"
  }
 },
 "nbformat": 4,
 "nbformat_minor": 2
}
