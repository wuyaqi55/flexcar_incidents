{
 "cells": [
  {
   "cell_type": "code",
   "execution_count": 31,
   "metadata": {},
   "outputs": [],
   "source": [
    "import pandas as pd\n",
    "data = pd.read_csv('/Users/yaqi.wu/Documents/data/incident_train_data/h2o_incident_data_all_10.6_train.csv')\n",
    "accident_model1_pos = pd.read_csv('/Users/yaqi.wu/Documents/data/h2oai_experiment_incident_v3_train_dataset_incident_trian_v3_csv_predictions.csv')"
   ]
  },
  {
   "cell_type": "code",
   "execution_count": 32,
   "metadata": {},
   "outputs": [
    {
     "name": "stdout",
     "output_type": "stream",
     "text": [
      "<class 'pandas.core.frame.DataFrame'>\n",
      "RangeIndex: 7135 entries, 0 to 7134\n",
      "Data columns (total 5 columns):\n",
      " #   Column                                               Non-Null Count  Dtype  \n",
      "---  ------                                               --------------  -----  \n",
      " 0   seasoning_3month_incident_Ind                        7135 non-null   int64  \n",
      " 1   Subscriber Id_x                                      7135 non-null   object \n",
      " 2   seasoning_3month_incident_Ind.0                      7135 non-null   float64\n",
      " 3   seasoning_3month_incident_Ind.1                      7135 non-null   float64\n",
      " 4   seasoning_3month_incident_Ind.predicted(th=0.45150)  7135 non-null   int64  \n",
      "dtypes: float64(2), int64(2), object(1)\n",
      "memory usage: 278.8+ KB\n"
     ]
    }
   ],
   "source": [
    "accident_model1_pos.info()"
   ]
  },
  {
   "cell_type": "code",
   "execution_count": 37,
   "metadata": {},
   "outputs": [],
   "source": [
    "accident_model1_pos['predict_accident_ind'] = accident_model1_pos['seasoning_3month_incident_Ind.1'].map(lambda x: 1 if x >= 0.285 else 0)"
   ]
  },
  {
   "cell_type": "code",
   "execution_count": 38,
   "metadata": {},
   "outputs": [
    {
     "data": {
      "text/plain": [
       "109"
      ]
     },
     "execution_count": 38,
     "metadata": {},
     "output_type": "execute_result"
    }
   ],
   "source": [
    "sum((accident_model1_pos['predict_accident_ind'] == 1) & (accident_model1_pos['seasoning_3month_incident_Ind']==1))"
   ]
  },
  {
   "cell_type": "code",
   "execution_count": null,
   "metadata": {},
   "outputs": [],
   "source": [
    "accident_model1_pos = accident_model1_pos[accident_model1_pos['predict_accident_ind']==1]\n",
    "data[data['SUBSCRIBERID'].isin(accident_model1_pos['Subscriber Id_x'])]"
   ]
  },
  {
   "cell_type": "code",
   "execution_count": 45,
   "metadata": {},
   "outputs": [],
   "source": [
    "data[data['SUBSCRIBERID'].isin(accident_model1_pos['Subscriber Id_x'])].to_csv('mp_test2.csv')"
   ]
  },
  {
   "cell_type": "code",
   "execution_count": 46,
   "metadata": {},
   "outputs": [],
   "source": [
    "mp_v33_predit = pd.read_csv(\"/Users/yaqi.wu/Downloads/h2oai_experiment_mp_sp_v3.3_custom_dataset_mp_test2_model1_pos_csv_predictions.csv\")"
   ]
  },
  {
   "cell_type": "code",
   "execution_count": 47,
   "metadata": {},
   "outputs": [
    {
     "data": {
      "text/plain": [
       "Index(['seasoning_3month_incident_Ind', 'seasoning_3month_sp+mp',\n",
       "       'Subscriber Id_x', 'Month of Creation Date',\n",
       "       'Gender First Name Estimated', 'Num Swaps', 'Num Maintenance Swaps',\n",
       "       'Num Preference Swaps', 'Days Since Last Swap', 'Days Since First Swap',\n",
       "       ...\n",
       "       'IDTheft', 'vehivel_request_fufillment', 'season', 'score_basket',\n",
       "       'score_q1_vs_mean', 'score_q3_vs_mean', 'seasoning_3month_sp+mp.1',\n",
       "       'seasoning_3month_sp+mp.2', 'seasoning_3month_sp+mp.3',\n",
       "       'seasoning_3month_sp+mp.predicted(argmax)'],\n",
       "      dtype='object', length=110)"
      ]
     },
     "execution_count": 47,
     "metadata": {},
     "output_type": "execute_result"
    }
   ],
   "source": [
    "mp_v33_predit.columns"
   ]
  },
  {
   "cell_type": "code",
   "execution_count": null,
   "metadata": {},
   "outputs": [],
   "source": [
    "mp_v33_predit_accident_cost = mp_v33_predit[['Subscriber Id_x','seasoning_3month_sp+mp','seasoning_3month_sp+mp.1',\n",
    "       'seasoning_3month_sp+mp.2', 'seasoning_3month_sp+mp.3']]\n",
    "mp_v33_predit_accident_cost.to_csv('mp_predition_post_accident_model1.csv')"
   ]
  }
 ],
 "metadata": {
  "kernelspec": {
   "display_name": ".conda",
   "language": "python",
   "name": "python3"
  },
  "language_info": {
   "codemirror_mode": {
    "name": "ipython",
    "version": 3
   },
   "file_extension": ".py",
   "mimetype": "text/x-python",
   "name": "python",
   "nbconvert_exporter": "python",
   "pygments_lexer": "ipython3",
   "version": "3.11.12"
  }
 },
 "nbformat": 4,
 "nbformat_minor": 2
}
