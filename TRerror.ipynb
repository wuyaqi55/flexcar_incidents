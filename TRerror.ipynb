{
 "cells": [
  {
   "cell_type": "code",
   "execution_count": null,
   "metadata": {},
   "outputs": [
    {
     "name": "stderr",
     "output_type": "stream",
     "text": [
      "/Users/yaqi.wu/Documents/flexcar_incidents/.conda/lib/python3.11/site-packages/snowflake/connector/options.py:104: UserWarning: You have an incompatible version of 'pyarrow' installed (20.0.0), please install a version that adheres to: 'pyarrow<19.0.0; extra == \"pandas\"'\n",
      "  warn_incompatible_dep(\n"
     ]
    }
   ],
   "source": [
    "import snowflake.connector\n",
    "import pandas as pd\n",
    "import json\n",
    "import warnings\n",
    "warnings.filterwarnings(\"ignore\")\n",
    "\n",
    "conn = snowflake.connector.connect(\n",
    "    user='YAQIWU11235',\n",
    "    password='nut3yub2tzh7MPA.dnc',\n",
    "    account='MCB49099-KHB29787',\n",
    "    warehouse='OSCILAR_TO_SNOWFLAKE',\n",
    "    database = 'FLEXCAR_OSCILAR',\n",
    "    schema = 'OSCILAR_SCHEMA'\n",
    "    )\n",
    "\n",
    "columns = [\"Subscriber Id\",\n",
    "           \"Created At\",\n",
    "            \"ClearID_TotalScore\",\n",
    "            \"RiskInform_TotalScore\",\n",
    "            \"RiskInform_AddressFlags_TotalScore\",\n",
    "            \"RiskInform_CriminalFlags_TotalScore\",\n",
    "            \"RiskInform_Custom_TotalScore\",\n",
    "            \"RiskInform_SingleRiskIndicators_TotalScore\",\n",
    "            \"RiskInform_SyntheticIdentity_TotalScore\"\n",
    "        ]\n",
    "\n",
    "q = f\"\"\"\n",
    "    \n",
    "\"\"\"\n",
    "with conn.cursor() as cur:\n",
    "    df = cur.execute(q).fetchall()"
   ]
  },
  {
   "cell_type": "code",
   "execution_count": null,
   "metadata": {},
   "outputs": [],
   "source": []
  },
  {
   "cell_type": "code",
   "execution_count": null,
   "metadata": {},
   "outputs": [],
   "source": []
  }
 ],
 "metadata": {
  "kernelspec": {
   "display_name": "Python 3",
   "language": "python",
   "name": "python3"
  },
  "language_info": {
   "codemirror_mode": {
    "name": "ipython",
    "version": 3
   },
   "file_extension": ".py",
   "mimetype": "text/x-python",
   "name": "python",
   "nbconvert_exporter": "python",
   "pygments_lexer": "ipython3",
   "version": "3.11.12"
  }
 },
 "nbformat": 4,
 "nbformat_minor": 2
}
