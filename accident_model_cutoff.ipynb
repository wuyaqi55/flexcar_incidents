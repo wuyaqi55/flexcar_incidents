{
 "cells": [
  {
   "cell_type": "code",
   "execution_count": 1,
   "metadata": {},
   "outputs": [],
   "source": [
    "import pandas as pd\n",
    "table = pd.read_csv('../data/incident_v3_predit.csv')"
   ]
  },
  {
   "cell_type": "code",
   "execution_count": 2,
   "metadata": {},
   "outputs": [
    {
     "data": {
      "text/html": [
       "<div>\n",
       "<style scoped>\n",
       "    .dataframe tbody tr th:only-of-type {\n",
       "        vertical-align: middle;\n",
       "    }\n",
       "\n",
       "    .dataframe tbody tr th {\n",
       "        vertical-align: top;\n",
       "    }\n",
       "\n",
       "    .dataframe thead th {\n",
       "        text-align: right;\n",
       "    }\n",
       "</style>\n",
       "<table border=\"1\" class=\"dataframe\">\n",
       "  <thead>\n",
       "    <tr style=\"text-align: right;\">\n",
       "      <th></th>\n",
       "      <th>seasoning_3month_incident_Ind</th>\n",
       "      <th>Subscriber Id_x</th>\n",
       "      <th>P0_no_accident</th>\n",
       "      <th>P1_accident</th>\n",
       "      <th>seasoning_3month_incident_Ind.predicted(th=0.45150)</th>\n",
       "    </tr>\n",
       "  </thead>\n",
       "  <tbody>\n",
       "    <tr>\n",
       "      <th>0</th>\n",
       "      <td>1</td>\n",
       "      <td>35410f08-48fe-4073-91b6-32f411442578</td>\n",
       "      <td>0.12</td>\n",
       "      <td>0.88</td>\n",
       "      <td>1</td>\n",
       "    </tr>\n",
       "    <tr>\n",
       "      <th>1</th>\n",
       "      <td>1</td>\n",
       "      <td>a07eda21-dec1-443d-83db-6947f9c4f2c8</td>\n",
       "      <td>0.11</td>\n",
       "      <td>0.89</td>\n",
       "      <td>1</td>\n",
       "    </tr>\n",
       "    <tr>\n",
       "      <th>2</th>\n",
       "      <td>1</td>\n",
       "      <td>29b44b5e-389c-479a-b207-92d7c3c262d7</td>\n",
       "      <td>1.00</td>\n",
       "      <td>0.00</td>\n",
       "      <td>0</td>\n",
       "    </tr>\n",
       "    <tr>\n",
       "      <th>3</th>\n",
       "      <td>1</td>\n",
       "      <td>b0cafe5d-61ce-4115-b3a4-c84b92b8e991</td>\n",
       "      <td>0.09</td>\n",
       "      <td>0.91</td>\n",
       "      <td>1</td>\n",
       "    </tr>\n",
       "    <tr>\n",
       "      <th>4</th>\n",
       "      <td>1</td>\n",
       "      <td>c313ebe7-fd77-47a5-971a-8c3afc38445c</td>\n",
       "      <td>0.99</td>\n",
       "      <td>0.01</td>\n",
       "      <td>0</td>\n",
       "    </tr>\n",
       "  </tbody>\n",
       "</table>\n",
       "</div>"
      ],
      "text/plain": [
       "   seasoning_3month_incident_Ind                       Subscriber Id_x  \\\n",
       "0                              1  35410f08-48fe-4073-91b6-32f411442578   \n",
       "1                              1  a07eda21-dec1-443d-83db-6947f9c4f2c8   \n",
       "2                              1  29b44b5e-389c-479a-b207-92d7c3c262d7   \n",
       "3                              1  b0cafe5d-61ce-4115-b3a4-c84b92b8e991   \n",
       "4                              1  c313ebe7-fd77-47a5-971a-8c3afc38445c   \n",
       "\n",
       "   P0_no_accident  P1_accident  \\\n",
       "0            0.12         0.88   \n",
       "1            0.11         0.89   \n",
       "2            1.00         0.00   \n",
       "3            0.09         0.91   \n",
       "4            0.99         0.01   \n",
       "\n",
       "   seasoning_3month_incident_Ind.predicted(th=0.45150)  \n",
       "0                                                  1    \n",
       "1                                                  1    \n",
       "2                                                  0    \n",
       "3                                                  1    \n",
       "4                                                  0    "
      ]
     },
     "execution_count": 2,
     "metadata": {},
     "output_type": "execute_result"
    }
   ],
   "source": [
    "table.head()"
   ]
  },
  {
   "cell_type": "code",
   "execution_count": 3,
   "metadata": {},
   "outputs": [],
   "source": [
    "df = table[['seasoning_3month_incident_Ind', 'P0_no_accident', 'P1_accident']]"
   ]
  },
  {
   "cell_type": "code",
   "execution_count": null,
   "metadata": {},
   "outputs": [
    {
     "data": {
      "text/html": [
       "<div>\n",
       "<style scoped>\n",
       "    .dataframe tbody tr th:only-of-type {\n",
       "        vertical-align: middle;\n",
       "    }\n",
       "\n",
       "    .dataframe tbody tr th {\n",
       "        vertical-align: top;\n",
       "    }\n",
       "\n",
       "    .dataframe thead th {\n",
       "        text-align: right;\n",
       "    }\n",
       "</style>\n",
       "<table border=\"1\" class=\"dataframe\">\n",
       "  <thead>\n",
       "    <tr style=\"text-align: right;\">\n",
       "      <th></th>\n",
       "      <th>cutoff</th>\n",
       "      <th>accum_predit_accident</th>\n",
       "    </tr>\n",
       "  </thead>\n",
       "  <tbody>\n",
       "    <tr>\n",
       "      <th>0</th>\n",
       "      <td>0.02</td>\n",
       "      <td>4866</td>\n",
       "    </tr>\n",
       "    <tr>\n",
       "      <th>1</th>\n",
       "      <td>0.02</td>\n",
       "      <td>4866</td>\n",
       "    </tr>\n",
       "    <tr>\n",
       "      <th>2</th>\n",
       "      <td>0.02</td>\n",
       "      <td>2542</td>\n",
       "    </tr>\n",
       "    <tr>\n",
       "      <th>3</th>\n",
       "      <td>0.02</td>\n",
       "      <td>2542</td>\n",
       "    </tr>\n",
       "    <tr>\n",
       "      <th>4</th>\n",
       "      <td>0.02</td>\n",
       "      <td>1656</td>\n",
       "    </tr>\n",
       "  </tbody>\n",
       "</table>\n",
       "</div>"
      ],
      "text/plain": [
       "   cutoff  accum_predit_accident\n",
       "0    0.02                   4866\n",
       "1    0.02                   4866\n",
       "2    0.02                   2542\n",
       "3    0.02                   2542\n",
       "4    0.02                   1656"
      ]
     },
     "execution_count": 26,
     "metadata": {},
     "output_type": "execute_result"
    }
   ],
   "source": [
    "import numpy as np\n",
    "cutoffs = np.arange(0,1,0.005)\n",
    "cutoff_df = []\n",
    "accum_predit_accident = []\n",
    "for cutoff in cutoffs[0:5]:\n",
    "    df[\"inds\"] = df[\"P1_accident\"].map(lambda x: 1 if x > cutoff else 0)\n",
    "    df[\"diff\"] = df[\"inds\"] - df['seasoning_3month_incident_Ind']\n",
    "    df[\"FN\"] = df[\"diff\"].map(lambda x: 1 if x == -1 else 0)\n",
    "    df['FP'] = df['diff'].map(lambda x: 1 if x == 1 else 0)\n",
    "    \n",
    "    cutoff_df.append(cutoff)\n",
    "    accum_predit_accident.append(sum(df[\"inds\"]))\n",
    "    accum_actual_accident.append()\n",
    "pd.DataFrame({\"cutoff\": cutoff,\"accum_predit_accident\": accum_predit_accident})\n",
    "    \n",
    "    \n"
   ]
  },
  {
   "cell_type": "code",
   "execution_count": 18,
   "metadata": {},
   "outputs": [
    {
     "data": {
      "text/plain": [
       "array([0.   , 0.005, 0.01 , 0.015, 0.02 ])"
      ]
     },
     "execution_count": 18,
     "metadata": {},
     "output_type": "execute_result"
    }
   ],
   "source": [
    "cutoffs = np.arange(0,1,0.005)\n",
    "cutoffs[0:5]"
   ]
  },
  {
   "cell_type": "code",
   "execution_count": null,
   "metadata": {},
   "outputs": [],
   "source": []
  },
  {
   "cell_type": "code",
   "execution_count": null,
   "metadata": {},
   "outputs": [],
   "source": []
  },
  {
   "cell_type": "code",
   "execution_count": null,
   "metadata": {},
   "outputs": [],
   "source": []
  },
  {
   "cell_type": "code",
   "execution_count": null,
   "metadata": {},
   "outputs": [],
   "source": []
  }
 ],
 "metadata": {
  "kernelspec": {
   "display_name": "Python 3",
   "language": "python",
   "name": "python3"
  },
  "language_info": {
   "codemirror_mode": {
    "name": "ipython",
    "version": 3
   },
   "file_extension": ".py",
   "mimetype": "text/x-python",
   "name": "python",
   "nbconvert_exporter": "python",
   "pygments_lexer": "ipython3",
   "version": "3.11.12"
  }
 },
 "nbformat": 4,
 "nbformat_minor": 2
}
