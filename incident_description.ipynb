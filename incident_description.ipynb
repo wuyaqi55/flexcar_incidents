{
 "cells": [
  {
   "cell_type": "code",
   "execution_count": 2,
   "metadata": {},
   "outputs": [
    {
     "name": "stdout",
     "output_type": "stream",
     "text": [
      "              precision    recall  f1-score   support\n",
      "\n",
      "           0       1.00      1.00      1.00         1\n",
      "\n",
      "    accuracy                           1.00         1\n",
      "   macro avg       1.00      1.00      1.00         1\n",
      "weighted avg       1.00      1.00      1.00         1\n",
      "\n",
      "No\n"
     ]
    }
   ],
   "source": [
    "from sentence_transformers import SentenceTransformer\n",
    "from sklearn.linear_model import LogisticRegression\n",
    "from sklearn.model_selection import train_test_split\n",
    "from sklearn.metrics import classification_report\n",
    "\n",
    "# 1. Your labeled data\n",
    "texts = [\n",
    "    \"mem parked veh in parking lot...mem came out and saw scratches on veh, mem nt sure what happened, mem was adv by others that another veh scraped it.\",\n",
    "    \"No serious injury, car was hit by a drunk driver\",\n",
    "    \"mem states that he was not in the vehicle and that this happened while he was at work, the vehicle was side swiped the light was damaged, and the side of the vehicle\",\n",
    "    \"The member was leaving a parking area, and she scratched the vehicle on the post. The right-back fender and the back door got damaged.\",\n",
    "    # ... more data\n",
    "]\n",
    "labels = [0, 0, 0, 1]  # 1 = At fault, 0 = Not at fault\n",
    "\n",
    "# 2. Split data\n",
    "train_texts, test_texts, train_labels, test_labels = train_test_split(\n",
    "    texts, labels, test_size=0.2, random_state=42\n",
    ")\n",
    "\n",
    "# 3. Load embedding model\n",
    "embedder = SentenceTransformer('all-MiniLM-L6-v2')\n",
    "\n",
    "# 4. Get embeddings\n",
    "train_embeddings = embedder.encode(train_texts)\n",
    "test_embeddings = embedder.encode(test_texts)\n",
    "\n",
    "# 5. Train classifier\n",
    "clf = LogisticRegression()\n",
    "clf.fit(train_embeddings, train_labels)\n",
    "\n",
    "# 6. Evaluate\n",
    "predictions = clf.predict(test_embeddings)\n",
    "print(classification_report(test_labels, predictions))\n",
    "\n",
    "# 7. Predict new text\n",
    "def predict_fault(text):\n",
    "    emb = embedder.encode([text])\n",
    "    pred = clf.predict(emb)[0]\n",
    "    return \"Yes\" if pred == 1 else \"No\"\n",
    "\n",
    "print(predict_fault(\"Driver ignored stop sign and collided with another car.\"))"
   ]
  },
  {
   "cell_type": "code",
   "execution_count": 8,
   "metadata": {},
   "outputs": [
    {
     "name": "stdout",
     "output_type": "stream",
     "text": [
      "No\n",
      "None\n"
     ]
    }
   ],
   "source": [
    "from judger import fault_prediction_gpt1\n",
    "\n",
    "txt = \"Mem adv she was on a 2-way street coming down the road... and the other party was speeding, hit her car left the scene. She was side-swiped... scratches on the passenger side front rear door.\"\n",
    "print(fault_prediction_gpt1(txt))"
   ]
  }
 ],
 "metadata": {
  "kernelspec": {
   "display_name": ".conda",
   "language": "python",
   "name": "python3"
  },
  "language_info": {
   "codemirror_mode": {
    "name": "ipython",
    "version": 3
   },
   "file_extension": ".py",
   "mimetype": "text/x-python",
   "name": "python",
   "nbconvert_exporter": "python",
   "pygments_lexer": "ipython3",
   "version": "3.11.12"
  }
 },
 "nbformat": 4,
 "nbformat_minor": 2
}
